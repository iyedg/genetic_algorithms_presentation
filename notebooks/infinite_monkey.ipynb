{
 "cells": [
  {
   "cell_type": "markdown",
   "metadata": {},
   "source": [
    "https://www.analyticsvidhya.com/blog/2017/07/introduction-to-genetic-algorithm/"
   ]
  },
  {
   "cell_type": "markdown",
   "metadata": {},
   "source": [
    "http://hjemmesider.diku.dk/~pisinger/codes.html"
   ]
  },
  {
   "cell_type": "code",
   "execution_count": 1,
   "metadata": {},
   "outputs": [],
   "source": [
    "%load_ext autoreload\n",
    "%autoreload 2"
   ]
  },
  {
   "cell_type": "code",
   "execution_count": 3,
   "metadata": {},
   "outputs": [
    {
     "data": {
      "text/html": [
       "        <script type=\"text/javascript\">\n",
       "        window.PlotlyConfig = {MathJaxConfig: 'local'};\n",
       "        if (window.MathJax) {MathJax.Hub.Config({SVG: {font: \"STIX-Web\"}});}\n",
       "        if (typeof require !== 'undefined') {\n",
       "        require.undef(\"plotly\");\n",
       "        requirejs.config({\n",
       "            paths: {\n",
       "                'plotly': ['https://cdn.plot.ly/plotly-latest.min']\n",
       "            }\n",
       "        });\n",
       "        require(['plotly'], function(Plotly) {\n",
       "            window._Plotly = Plotly;\n",
       "        });\n",
       "        }\n",
       "        </script>\n",
       "        "
      ]
     },
     "metadata": {},
     "output_type": "display_data"
    }
   ],
   "source": [
    "import cufflinks as cf\n",
    "import numpy as np\n",
    "import pandas as pd\n",
    "from evol import Evolution, Population\n",
    "from pprint import pprint as print\n",
    "\n",
    "cf.go_offline()"
   ]
  },
  {
   "cell_type": "markdown",
   "metadata": {},
   "source": [
    "# Typing monkey"
   ]
  },
  {
   "cell_type": "code",
   "execution_count": 4,
   "metadata": {},
   "outputs": [],
   "source": [
    "np.random.seed(42)"
   ]
  },
  {
   "cell_type": "code",
   "execution_count": 5,
   "metadata": {},
   "outputs": [],
   "source": [
    "class TypingMonkeyLogger:\n",
    "    def __init__(self):\n",
    "        self.generation = 0\n",
    "        self.iterations = []\n",
    "\n",
    "    def log(self, population):\n",
    "        self.generation += 1\n",
    "        for i in population.evaluate():\n",
    "            string = i.chromosome\n",
    "            fitness = i.fitness\n",
    "            self.iterations.append(\n",
    "                {\"generation\": self.generation, \"string\": string, \"fitness\": fitness}\n",
    "            )"
   ]
  },
  {
   "cell_type": "code",
   "execution_count": 18,
   "metadata": {},
   "outputs": [],
   "source": [
    "objective = \"Essabeba wallew bandeya\""
   ]
  },
  {
   "cell_type": "code",
   "execution_count": 19,
   "metadata": {},
   "outputs": [],
   "source": [
    "lower_case_letters = set(range(ord(\"a\"), ord(\"z\") + 1))\n",
    "upper_case_letters = set(range(ord(\"A\"), ord(\"Z\") + 1))\n",
    "punctuation = set([ord(\" \"), ord(\".\")])\n",
    "characters = np.array(list(lower_case_letters.union(upper_case_letters).union(punctuation)))"
   ]
  },
  {
   "cell_type": "code",
   "execution_count": 20,
   "metadata": {},
   "outputs": [],
   "source": [
    "def fitness(string):\n",
    "    reference = np.array(list(objective))\n",
    "    candidate = np.array(list(string))\n",
    "    return np.sum(reference == candidate) / len(objective)"
   ]
  },
  {
   "cell_type": "code",
   "execution_count": 21,
   "metadata": {},
   "outputs": [],
   "source": [
    "def random_candidate():\n",
    "    return \"\".join([chr(i) for i in np.random.choice(characters, size=len(objective), replace=True)])"
   ]
  },
  {
   "cell_type": "code",
   "execution_count": 22,
   "metadata": {},
   "outputs": [],
   "source": [
    "def select(population):\n",
    "    top_10 = sorted(population, key=lambda x: x.fitness)[:-10]\n",
    "    parent1, parent2 = np.random.choice(top_10, size=2)\n",
    "    return parent1, parent2"
   ]
  },
  {
   "cell_type": "code",
   "execution_count": 23,
   "metadata": {},
   "outputs": [],
   "source": [
    "def crossover(*parents):\n",
    "    parent1, parent2 = parents\n",
    "    m = np.random.randint(0, len(objective))\n",
    "    child = f\"{parent1[:m]}{parent2[m:]}\"\n",
    "    return child"
   ]
  },
  {
   "cell_type": "code",
   "execution_count": 24,
   "metadata": {},
   "outputs": [],
   "source": [
    "def mutate(string):\n",
    "    toss = np.random.exponential()\n",
    "    if toss > 0.5:\n",
    "        i = np.random.randint(0, len(objective))\n",
    "        random_letter = chr(np.random.choice(characters))\n",
    "        string_to_list = list(string)\n",
    "        string_to_list[i] = random_letter\n",
    "        return \"\".join(string_to_list)\n",
    "    return string"
   ]
  },
  {
   "cell_type": "code",
   "execution_count": 25,
   "metadata": {},
   "outputs": [],
   "source": [
    "logger = TypingMonkeyLogger()\n",
    "pop = Population.generate(\n",
    "    init_function=random_candidate, eval_function=fitness, size=200\n",
    ")\n",
    "evolution = (\n",
    "    Evolution()\n",
    "    .survive(fraction=0.2)\n",
    "    .breed(parent_picker=select, combiner=crossover)\n",
    "    .callback(logger.log)\n",
    "    .mutate(mutate_function=mutate)\n",
    ")"
   ]
  },
  {
   "cell_type": "code",
   "execution_count": 26,
   "metadata": {},
   "outputs": [
    {
     "name": "stdout",
     "output_type": "stream",
     "text": [
      "Wall time: 2.42 s\n"
     ]
    },
    {
     "data": {
      "text/plain": [
       "<Population with size 200 at 2195245590960>"
      ]
     },
     "execution_count": 26,
     "metadata": {},
     "output_type": "execute_result"
    }
   ],
   "source": [
    "%%time\n",
    "pop.evolve(evolution, 100)"
   ]
  },
  {
   "cell_type": "code",
   "execution_count": 27,
   "metadata": {},
   "outputs": [
    {
     "data": {
      "text/plain": [
       "<Population with size 200 at 2195245588664>"
      ]
     },
     "execution_count": 27,
     "metadata": {},
     "output_type": "execute_result"
    }
   ],
   "source": [
    "pop.evaluate()"
   ]
  },
  {
   "cell_type": "code",
   "execution_count": 28,
   "metadata": {},
   "outputs": [
    {
     "data": {
      "application/vnd.plotly.v1+json": {
       "config": {
        "linkText": "Export to plot.ly",
        "plotlyServerURL": "https://plot.ly",
        "showLink": true
       },
       "data": [
        {
         "line": {
          "color": "rgba(255, 153, 51, 1.0)",
          "dash": "solid",
          "shape": "linear",
          "width": 1.3
         },
         "mode": "lines",
         "name": "fitness",
         "text": "",
         "type": "scatter",
         "uid": "bb1e4630-0579-43ca-a54b-54d55cfaea91",
         "x": [
          1,
          2,
          3,
          4,
          5,
          6,
          7,
          8,
          9,
          10,
          11,
          12,
          13,
          14,
          15,
          16,
          17,
          18,
          19,
          20,
          21,
          22,
          23,
          24,
          25,
          26,
          27,
          28,
          29,
          30,
          31,
          32,
          33,
          34,
          35,
          36,
          37,
          38,
          39,
          40,
          41,
          42,
          43,
          44,
          45,
          46,
          47,
          48,
          49,
          50,
          51,
          52,
          53,
          54,
          55,
          56,
          57,
          58,
          59,
          60,
          61,
          62,
          63,
          64,
          65,
          66,
          67,
          68,
          69,
          70,
          71,
          72,
          73,
          74,
          75,
          76,
          77,
          78,
          79,
          80,
          81,
          82,
          83,
          84,
          85,
          86,
          87,
          88,
          89,
          90,
          91,
          92,
          93,
          94,
          95,
          96,
          97,
          98,
          99,
          100
         ],
         "y": [
          0.13043478260869565,
          0.13043478260869565,
          0.13043478260869565,
          0.21739130434782608,
          0.2608695652173913,
          0.2608695652173913,
          0.30434782608695654,
          0.34782608695652173,
          0.391304347826087,
          0.391304347826087,
          0.43478260869565216,
          0.43478260869565216,
          0.4782608695652174,
          0.4782608695652174,
          0.5217391304347826,
          0.5652173913043478,
          0.6086956521739131,
          0.6086956521739131,
          0.6521739130434783,
          0.6521739130434783,
          0.6521739130434783,
          0.6956521739130435,
          0.7391304347826086,
          0.7391304347826086,
          0.782608695652174,
          0.782608695652174,
          0.8260869565217391,
          0.8260869565217391,
          0.8260869565217391,
          0.8260869565217391,
          0.8260869565217391,
          0.8695652173913043,
          0.8695652173913043,
          0.8695652173913043,
          0.8695652173913043,
          0.8695652173913043,
          0.8695652173913043,
          0.8695652173913043,
          0.8695652173913043,
          0.8695652173913043,
          0.8695652173913043,
          0.8695652173913043,
          0.8695652173913043,
          0.8695652173913043,
          0.8695652173913043,
          0.9130434782608695,
          0.9130434782608695,
          0.9565217391304348,
          0.9565217391304348,
          0.9565217391304348,
          0.9565217391304348,
          1,
          1,
          1,
          1,
          1,
          1,
          1,
          1,
          1,
          1,
          1,
          1,
          1,
          1,
          1,
          1,
          1,
          1,
          1,
          1,
          1,
          1,
          1,
          1,
          1,
          1,
          1,
          1,
          1,
          1,
          1,
          1,
          1,
          1,
          1,
          1,
          1,
          1,
          1,
          1,
          1,
          1,
          1,
          1,
          1,
          1,
          1,
          1,
          1
         ]
        }
       ],
       "layout": {
        "autosize": true,
        "legend": {
         "bgcolor": "#FFFFFF",
         "font": {
          "color": "#4D5663"
         }
        },
        "paper_bgcolor": "#FFFFFF",
        "plot_bgcolor": "#FFFFFF",
        "title": {
         "font": {
          "color": "#4D5663"
         }
        },
        "xaxis": {
         "autorange": true,
         "gridcolor": "#E1E5ED",
         "range": [
          1,
          100
         ],
         "showgrid": true,
         "tickfont": {
          "color": "#4D5663"
         },
         "title": {
          "font": {
           "color": "#4D5663"
          },
          "text": ""
         },
         "type": "linear",
         "zerolinecolor": "#E1E5ED"
        },
        "yaxis": {
         "autorange": true,
         "gridcolor": "#E1E5ED",
         "range": [
          0.0821256038647343,
          1.0483091787439613
         ],
         "showgrid": true,
         "tickfont": {
          "color": "#4D5663"
         },
         "title": {
          "font": {
           "color": "#4D5663"
          },
          "text": ""
         },
         "type": "linear",
         "zerolinecolor": "#E1E5ED"
        }
       }
      },
      "image/png": "[encoded data removed]",
      "text/html": [
       "<div>\n",
       "        \n",
       "        \n",
       "            <div id=\"aadb1b58-8609-41ea-8f7f-30b5264c4058\" class=\"plotly-graph-div\" style=\"height:525px; width:100%;\"></div>\n",
       "            <script type=\"text/javascript\">\n",
       "                require([\"plotly\"], function(Plotly) {\n",
       "                    window.PLOTLYENV=window.PLOTLYENV || {};\n",
       "                    window.PLOTLYENV.BASE_URL='https://plot.ly';\n",
       "                    \n",
       "                if (document.getElementById(\"aadb1b58-8609-41ea-8f7f-30b5264c4058\")) {\n",
       "                    Plotly.newPlot(\n",
       "                        'aadb1b58-8609-41ea-8f7f-30b5264c4058',\n",
       "                        [{\"line\": {\"color\": \"rgba(255, 153, 51, 1.0)\", \"dash\": \"solid\", \"shape\": \"linear\", \"width\": 1.3}, \"mode\": \"lines\", \"name\": \"fitness\", \"text\": \"\", \"type\": \"scatter\", \"uid\": \"bb1e4630-0579-43ca-a54b-54d55cfaea91\", \"x\": [1, 2, 3, 4, 5, 6, 7, 8, 9, 10, 11, 12, 13, 14, 15, 16, 17, 18, 19, 20, 21, 22, 23, 24, 25, 26, 27, 28, 29, 30, 31, 32, 33, 34, 35, 36, 37, 38, 39, 40, 41, 42, 43, 44, 45, 46, 47, 48, 49, 50, 51, 52, 53, 54, 55, 56, 57, 58, 59, 60, 61, 62, 63, 64, 65, 66, 67, 68, 69, 70, 71, 72, 73, 74, 75, 76, 77, 78, 79, 80, 81, 82, 83, 84, 85, 86, 87, 88, 89, 90, 91, 92, 93, 94, 95, 96, 97, 98, 99, 100], \"y\": [0.13043478260869565, 0.13043478260869565, 0.13043478260869565, 0.21739130434782608, 0.2608695652173913, 0.2608695652173913, 0.30434782608695654, 0.34782608695652173, 0.391304347826087, 0.391304347826087, 0.43478260869565216, 0.43478260869565216, 0.4782608695652174, 0.4782608695652174, 0.5217391304347826, 0.5652173913043478, 0.6086956521739131, 0.6086956521739131, 0.6521739130434783, 0.6521739130434783, 0.6521739130434783, 0.6956521739130435, 0.7391304347826086, 0.7391304347826086, 0.782608695652174, 0.782608695652174, 0.8260869565217391, 0.8260869565217391, 0.8260869565217391, 0.8260869565217391, 0.8260869565217391, 0.8695652173913043, 0.8695652173913043, 0.8695652173913043, 0.8695652173913043, 0.8695652173913043, 0.8695652173913043, 0.8695652173913043, 0.8695652173913043, 0.8695652173913043, 0.8695652173913043, 0.8695652173913043, 0.8695652173913043, 0.8695652173913043, 0.8695652173913043, 0.9130434782608695, 0.9130434782608695, 0.9565217391304348, 0.9565217391304348, 0.9565217391304348, 0.9565217391304348, 1.0, 1.0, 1.0, 1.0, 1.0, 1.0, 1.0, 1.0, 1.0, 1.0, 1.0, 1.0, 1.0, 1.0, 1.0, 1.0, 1.0, 1.0, 1.0, 1.0, 1.0, 1.0, 1.0, 1.0, 1.0, 1.0, 1.0, 1.0, 1.0, 1.0, 1.0, 1.0, 1.0, 1.0, 1.0, 1.0, 1.0, 1.0, 1.0, 1.0, 1.0, 1.0, 1.0, 1.0, 1.0, 1.0, 1.0, 1.0, 1.0]}],\n",
       "                        {\"legend\": {\"bgcolor\": \"#FFFFFF\", \"font\": {\"color\": \"#4D5663\"}}, \"paper_bgcolor\": \"#FFFFFF\", \"plot_bgcolor\": \"#FFFFFF\", \"title\": {\"font\": {\"color\": \"#4D5663\"}}, \"xaxis\": {\"gridcolor\": \"#E1E5ED\", \"showgrid\": true, \"tickfont\": {\"color\": \"#4D5663\"}, \"title\": {\"font\": {\"color\": \"#4D5663\"}, \"text\": \"\"}, \"zerolinecolor\": \"#E1E5ED\"}, \"yaxis\": {\"gridcolor\": \"#E1E5ED\", \"showgrid\": true, \"tickfont\": {\"color\": \"#4D5663\"}, \"title\": {\"font\": {\"color\": \"#4D5663\"}, \"text\": \"\"}, \"zerolinecolor\": \"#E1E5ED\"}},\n",
       "                        {\"showLink\": true, \"linkText\": \"Export to plot.ly\", \"plotlyServerURL\": \"https://plot.ly\", \"responsive\": true}\n",
       "                    ).then(function(){\n",
       "                            \n",
       "var gd = document.getElementById('aadb1b58-8609-41ea-8f7f-30b5264c4058');\n",
       "var x = new MutationObserver(function (mutations, observer) {{\n",
       "        var display = window.getComputedStyle(gd).display;\n",
       "        if (!display || display === 'none') {{\n",
       "            console.log([gd, 'removed!']);\n",
       "            Plotly.purge(gd);\n",
       "            observer.disconnect();\n",
       "        }}\n",
       "}});\n",
       "\n",
       "// Listen for the removal of the full notebook cells\n",
       "var notebookContainer = gd.closest('#notebook-container');\n",
       "if (notebookContainer) {{\n",
       "    x.observe(notebookContainer, {childList: true});\n",
       "}}\n",
       "\n",
       "// Listen for the clearing of the current output cell\n",
       "var outputEl = gd.closest('.output');\n",
       "if (outputEl) {{\n",
       "    x.observe(outputEl, {childList: true});\n",
       "}}\n",
       "\n",
       "                        })\n",
       "                };\n",
       "                });\n",
       "            </script>\n",
       "        </div>"
      ]
     },
     "metadata": {},
     "output_type": "display_data"
    }
   ],
   "source": [
    "df = pd.DataFrame(logger.iterations)\n",
    "df.groupby(\"generation\").agg(\"max\").iplot(kind=\"scatter\", y=\"fitness\")"
   ]
  },
  {
   "cell_type": "code",
   "execution_count": 29,
   "metadata": {},
   "outputs": [
    {
     "data": {
      "text/plain": [
       "0        tkOnmDmX NrlsNrNkavuXbe\n",
       "1        eehSbQdv weXnzqYwZRFXcC\n",
       "2        pphmrpnlAYqtKKwzbPleOmH\n",
       "3        ellzYMAaclPVkzpsFatiiGq\n",
       "4        ZZtpwrFaQaMcCuZrMFhdkkT\n",
       "5        GruClOyapQlawJFoocMfXga\n",
       "6        ISFXrJoKHxaFnyj GBenxSE\n",
       "7        ScOWmeJxZuXhFdwwXCojKQD\n",
       "8        GS mXLkaoxEVYnw..NJlXHM\n",
       "9        RLJuUJyppknbtYVAbgeiluN\n",
       "10       K gMacJCtrdHCYkSNaMjEPw\n",
       "11       pNtcMeMdTvDbmOp.NsJsqJw\n",
       "12       DJrymFmKoGRlHmYyBHuQHvt\n",
       "13       SXLXKXmMYUTHCBvhNdIkegt\n",
       "14       BUAR eHpAdqjcSVVxHDZ sr\n",
       "15       YxraXGwJoXedIaFWRSBhoaQ\n",
       "16       QwcpIOOvMDdlIKOZuPZtNhu\n",
       "17       lRkYle.K.iCDvdtVOGyll.G\n",
       "18       cMBuOqcaIdlAv FmOFoeX.s\n",
       "19       uaMbvprJ.SaaNwce.pBkuC.\n",
       "20       vtRpl KTwKg ryeCbCoWXQJ\n",
       "21       OQRUJdaCuwo.DSgMPus.Cim\n",
       "22       rEmcpiECxOIihY  LyZm Fq\n",
       "23       msoXhalquBn.bsRbPbrg AU\n",
       "24       HNBcdVPdyZIF z.SuxQnbyl\n",
       "25       XveBsjVcff.oFuSJh nkNuD\n",
       "26       cN rfXzbmwCVHjg.aQjynvL\n",
       "27       tfj zcuOTda tZm.WSiXl d\n",
       "28       OdHNtXTMJkAyV.BUUFnpJGI\n",
       "29       cxdSuMbBfGJbVwazwTgRimw\n",
       "                  ...           \n",
       "19970    Essabeba wallew bandeya\n",
       "19971    Essabeba wallew bandeya\n",
       "19972    Essabeba wallew bandeya\n",
       "19973    Essabeba wallew bandeya\n",
       "19974    Essabeba wallew bandeya\n",
       "19975    Essabeba wallew bandeya\n",
       "19976    Essabeba wallew bandeya\n",
       "19977    Essabeba wallew bandeya\n",
       "19978    Essabeba wallew bandeya\n",
       "19979    Essabeba wallew bandeya\n",
       "19980    Essabeba wallew bandeya\n",
       "19981    Essabeba wallew bandeya\n",
       "19982    Essabeba wallew bandeya\n",
       "19983    Essabeba wallew bandeya\n",
       "19984    Essabeba wallew bandeya\n",
       "19985    Essabeba wallew bandeya\n",
       "19986    Essabeba wallew bandeya\n",
       "19987    Essabeba wallew bandeya\n",
       "19988    Essabeba wallew bandeya\n",
       "19989    Essabeba wallew bandeya\n",
       "19990    Essabeba wallew bandeya\n",
       "19991    Essabeba wallew bandeya\n",
       "19992    Essabeba wallew bandeya\n",
       "19993    Essabeba wallew bandeya\n",
       "19994    Essabeba wallew bandeya\n",
       "19995    Essabeba wallew bandeya\n",
       "19996    Essabeba wallew bandeya\n",
       "19997    Essabeba wallew bandeya\n",
       "19998    Essabeba wallew bandeya\n",
       "19999    Essabeba wallew bandeya\n",
       "Name: string, Length: 20000, dtype: object"
      ]
     },
     "execution_count": 29,
     "metadata": {},
     "output_type": "execute_result"
    }
   ],
   "source": [
    "df.string"
   ]
  },
  {
   "cell_type": "code",
   "execution_count": null,
   "metadata": {},
   "outputs": [],
   "source": []
  }
 ],
 "metadata": {
  "kernelspec": {
   "display_name": "Python [conda env:genetic_algorithm] *",
   "language": "python",
   "name": "conda-env-genetic_algorithm-py"
  },
  "language_info": {
   "codemirror_mode": {
    "name": "ipython",
    "version": 3
   },
   "file_extension": ".py",
   "mimetype": "text/x-python",
   "name": "python",
   "nbconvert_exporter": "python",
   "pygments_lexer": "ipython3",
   "version": "3.7.3"
  }
 },
 "nbformat": 4,
 "nbformat_minor": 4
}
