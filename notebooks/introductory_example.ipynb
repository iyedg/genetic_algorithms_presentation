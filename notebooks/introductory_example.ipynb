{
 "cells": [
  {
   "cell_type": "code",
   "execution_count": 37,
   "metadata": {},
   "outputs": [],
   "source": [
    "import numpy as np\n",
    "from evol import Population, Evolution\n",
    "import attr\n",
    "import typing\n",
    "from itertools import combinations"
   ]
  },
  {
   "cell_type": "code",
   "execution_count": 35,
   "metadata": {},
   "outputs": [],
   "source": [
    "@attr.s(kw_only=True)\n",
    "class Motor: \n",
    "    type_: str = attr.ib()\n",
    "    voltage: int = attr.ib()\n",
    "    \n",
    "    @type_.validator\n",
    "    def valid_motor_type(self, attribute, value):\n",
    "        valid_motor_types = [\"step_motor\", \"servo_motor\"]\n",
    "        if value not in valid_motor_types:\n",
    "            raise ValueError(f\"`{value}` is an invalid motor type. Valid motor types are {valid_motor_types}\")\n",
    "    @voltage.validator\n",
    "    def valid_voltage(self, attribute, value):\n",
    "        valid_voltage_values = [5, 9, 12, 24]\n",
    "        if value not in valid_voltage_values:\n",
    "            raise ValueError(f\"`{value}` is an invalid voltage value. Valid voltage values are {valid_voltage_values}\")"
   ]
  },
  {
   "cell_type": "code",
   "execution_count": 43,
   "metadata": {},
   "outputs": [],
   "source": [
    "@attr.s(kw_only=True)\n",
    "class PowerSource:\n",
    "    type_: str = attr.ib()\n",
    "    voltage: int = attr.ib()\n",
    "    @type_.validator\n",
    "    def valid_power_source_type(self, attribute, value):\n",
    "        valid_power_source_types = [\"nickel_cadmium\", \"lithium_ion\", \"solar_panel\", \"fusion_reactor\"]\n",
    "        if value not in valid_power_source_types:\n",
    "            raise ValueError(f\"`{value}` is an invalid power source type. Valid power source types are {valid_power_source_types}\")\n",
    "    @voltage.validator\n",
    "    def valid_voltage(self, attribute, value):\n",
    "        valid_voltage_values = [12, 24]\n",
    "        if value not in valid_voltage_values:\n",
    "            raise ValueError(f\"`{value}` is an invalid voltage value. Valid voltage values are {valid_voltage_values}\")    \n",
    "    "
   ]
  },
  {
   "cell_type": "code",
   "execution_count": 44,
   "metadata": {},
   "outputs": [
    {
     "data": {
      "text/plain": [
       "PowerSource(type_='lithium_ion', voltage=12)"
      ]
     },
     "execution_count": 44,
     "metadata": {},
     "output_type": "execute_result"
    }
   ],
   "source": [
    "PowerSource(type_=\"lithium_ion\", voltage=12)"
   ]
  },
  {
   "cell_type": "code",
   "execution_count": 7,
   "metadata": {},
   "outputs": [],
   "source": [
    "def fitness(individual):\n",
    "    return individual.range + individual.power - individual.weight"
   ]
  },
  {
   "cell_type": "code",
   "execution_count": null,
   "metadata": {},
   "outputs": [],
   "source": []
  }
 ],
 "metadata": {
  "kernelspec": {
   "display_name": "Python [conda env:genetic_algorithm] *",
   "language": "python",
   "name": "conda-env-genetic_algorithm-py"
  },
  "language_info": {
   "codemirror_mode": {
    "name": "ipython",
    "version": 3
   },
   "file_extension": ".py",
   "mimetype": "text/x-python",
   "name": "python",
   "nbconvert_exporter": "python",
   "pygments_lexer": "ipython3",
   "version": "3.7.3"
  }
 },
 "nbformat": 4,
 "nbformat_minor": 4
}
