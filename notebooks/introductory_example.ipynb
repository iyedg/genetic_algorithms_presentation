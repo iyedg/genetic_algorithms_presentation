{
 "cells": [
  {
   "cell_type": "code",
   "execution_count": 18,
   "metadata": {},
   "outputs": [],
   "source": [
    "import numpy as np\n",
    "from evol import Population, Evolution\n",
    "import attr\n",
    "from itertools import product\n",
    "import random\n",
    "import pandas as pd\n",
    "import seaborn as sns\n",
    "\n",
    "sns.set_style(\"whitegrid\")"
   ]
  },
  {
   "cell_type": "code",
   "execution_count": 2,
   "metadata": {},
   "outputs": [],
   "source": [
    "@attr.s(kw_only=True)\n",
    "class Motor:\n",
    "    type_: str = attr.ib()\n",
    "    power: int = attr.ib()\n",
    "    valid_motor_types = [\"step\", \"servo\"]\n",
    "    valid_power_values = [5, 9, 12, 24]\n",
    "\n",
    "    @type_.validator\n",
    "    def valid_motor_type(self, attribute, value):\n",
    "        if value not in self.valid_motor_types:\n",
    "            raise ValueError(\n",
    "                f\"`{value}` is an invalid motor type. Valid motor types are {self.valid_motor_types}\"\n",
    "            )\n",
    "\n",
    "    @power.validator\n",
    "    def valid_power(self, attribute, value):\n",
    "        if value not in self.valid_power_values:\n",
    "            raise ValueError(\n",
    "                f\"`{value}` is an invalid power value. Valid power values are {self.valid_power_values}\"\n",
    "            )\n",
    "\n",
    "    @property\n",
    "    def possible_motors(self):\n",
    "        return list(product(self.valid_motor_types, self.valid_power_values))\n",
    "\n",
    "    @property\n",
    "    def weight(self):\n",
    "        # TODO: improve the association between types and weights\n",
    "        weights = dict(zip(self.valid_motor_types, [240, 63]))\n",
    "        return weights[self.type_]\n",
    "\n",
    "    def as_binary(self):\n",
    "        # Width is set to 3 because a motor is encoded in 3 bits\n",
    "        return np.binary_repr(self.possible_motors.index((self.type_, self.power)), 3)\n",
    "\n",
    "    @classmethod\n",
    "    def from_binary(cls, motor):\n",
    "        # TODO: currently a hack, check how to access property from classmethod\n",
    "        possible_motors = list(product(cls.valid_motor_types, cls.valid_power_values))\n",
    "        possible_motor_index = int(motor, 2)\n",
    "        motor = possible_motors[possible_motor_index]\n",
    "        type_, power = motor\n",
    "        return cls(type_=type_, power=power)"
   ]
  },
  {
   "cell_type": "code",
   "execution_count": 3,
   "metadata": {},
   "outputs": [],
   "source": [
    "@attr.s(kw_only=True)\n",
    "class PowerSource:\n",
    "    type_: str = attr.ib()\n",
    "    power: int = attr.ib()\n",
    "    valid_power_source_types = [\n",
    "        \"nickel_cadmium\",\n",
    "        \"lithium_ion\",\n",
    "        \"solar_panel\",\n",
    "        \"fusion_reactor\",\n",
    "    ]\n",
    "    valid_power_values = [12, 24]\n",
    "\n",
    "    @type_.validator\n",
    "    def valid_power_source_type(self, attribute, value):\n",
    "        if value not in self.valid_power_source_types:\n",
    "            raise ValueError(\n",
    "                f\"`{value}` is an invalid power source type. Valid power source types are {self.valid_power_source_types}\"\n",
    "            )\n",
    "\n",
    "    @power.validator\n",
    "    def valid_power(self, attribute, value):\n",
    "        if value not in self.valid_power_values:\n",
    "            raise ValueError(\n",
    "                f\"`{value}` is an invalid power value. Valid power values are {self.valid_power_values}\"\n",
    "            )\n",
    "\n",
    "    @property\n",
    "    def weight(self):\n",
    "        weights = dict(zip(self.valid_power_source_types, [1, 2, 3, 4]))\n",
    "        return weights[self.type_]\n",
    "\n",
    "    @property\n",
    "    def possible_power_sources(self):\n",
    "        return list(product(self.valid_power_source_types, self.valid_power_values))\n",
    "\n",
    "    def as_binary(self):\n",
    "        # Width is set to 3 because a motor is encoded in 3 bits\n",
    "        return np.binary_repr(\n",
    "            self.possible_power_sources.index((self.type_, self.power)), 3\n",
    "        )\n",
    "\n",
    "    @classmethod\n",
    "    def from_binary(cls, motor):\n",
    "        # TODO: currently a hack, check how to access property from classmethod\n",
    "        possible_power_sources = list(\n",
    "            product(cls.valid_power_source_types, cls.valid_power_values)\n",
    "        )\n",
    "        possible_power_source_index = int(motor, 2)\n",
    "        power_source = possible_power_sources[possible_power_source_index]\n",
    "        type_, power = power_source\n",
    "        return cls(type_=type_, power=power)"
   ]
  },
  {
   "cell_type": "code",
   "execution_count": 4,
   "metadata": {},
   "outputs": [],
   "source": [
    "@attr.s(kw_only=True)\n",
    "class Robot:\n",
    "    motor = attr.ib()\n",
    "    power_source = attr.ib()\n",
    "\n",
    "    @property\n",
    "    def weight(self):\n",
    "        return self.motor.weight + self.power_source.weight\n",
    "\n",
    "    @property\n",
    "    def specific_power(self):\n",
    "        \"\"\"range is defined as the distance the robot can travel given its weight and power source capacity.\n",
    "\n",
    "        Returns:\n",
    "            float -- the ratio of the robot's power source capacity and its total weight\n",
    "        \"\"\"\n",
    "        # https://en.wikipedia.org/wiki/Power-to-weight_ratio#Power-to-weight_(specific_power)\n",
    "        return self.power_source.power / self.weight\n",
    "\n",
    "    def as_binary(self):\n",
    "        return f\"{self.motor.as_binary()}{self.power_source.as_binary()}\"\n",
    "\n",
    "    @classmethod\n",
    "    def from_binary(cls, robot):\n",
    "        motor = robot[:3]\n",
    "        power_source = robot[3:]\n",
    "        return cls(\n",
    "            motor=Motor.from_binary(motor),\n",
    "            power_source=PowerSource.from_binary(power_source),\n",
    "        )"
   ]
  },
  {
   "cell_type": "code",
   "execution_count": 5,
   "metadata": {},
   "outputs": [],
   "source": [
    "def fitness(individual):\n",
    "    return (\n",
    "        individual.specific_power * 10 ** 3\n",
    "        - individual.weight\n",
    "        - (individual.motor.power - individual.power_source.power) ** 2\n",
    "    )"
   ]
  },
  {
   "cell_type": "code",
   "execution_count": 6,
   "metadata": {},
   "outputs": [],
   "source": [
    "def random_robot():\n",
    "    # Choose two integers between 0 and 7 then generate a power source\n",
    "    # and a motor from them\n",
    "    motor = Motor.from_binary(np.binary_repr(np.random.randint(0, 8)))\n",
    "    power_source = PowerSource.from_binary(np.binary_repr(np.random.randint(0, 8)))\n",
    "    return Robot(power_source=power_source, motor=motor)"
   ]
  },
  {
   "cell_type": "code",
   "execution_count": 7,
   "metadata": {},
   "outputs": [],
   "source": [
    "def pick_random_parents(pop):\n",
    "    \"\"\"\n",
    "    This is how we are going to select parents from the population\n",
    "    \"\"\"\n",
    "    mom = random.choice(pop)\n",
    "    dad = random.choice(pop)\n",
    "    return mom, dad"
   ]
  },
  {
   "cell_type": "code",
   "execution_count": 8,
   "metadata": {},
   "outputs": [],
   "source": [
    "def make_child(mom, dad):\n",
    "    \"\"\"\n",
    "    This function describes how two candidates combine into a\n",
    "    new candidate. Note that the output is a tuple, just like\n",
    "    the output of `random_start`. We leave it to the developer\n",
    "    to ensure that chromosomes are of the same type.\n",
    "    \"\"\"\n",
    "    # TODO: add breed method\n",
    "    mom_binary = mom.as_binary()\n",
    "    dad_binary = dad.as_binary()\n",
    "    index = np.random.randint(0, 7)\n",
    "    child_binary = f\"{mom_binary[:index]}{dad_binary[index:]}\"\n",
    "    return Robot.from_binary(child_binary)"
   ]
  },
  {
   "cell_type": "code",
   "execution_count": 9,
   "metadata": {},
   "outputs": [],
   "source": [
    "def mutate(chromosome, sigma):\n",
    "    \"\"\"\n",
    "    Toggle two bits at random\n",
    "    \"\"\"\n",
    "    binary_as_list = list(chromosome.as_binary())\n",
    "    bit_1 = np.random.randint(0, 6)\n",
    "    bit_2 = np.random.randint(0, 6)\n",
    "    binary_as_list[bit_1] = str(1 - int(binary_as_list[bit_1]))\n",
    "    binary_as_list[bit_2] = str(1 - int(binary_as_list[bit_2]))\n",
    "    return Robot.from_binary(\"\".join(binary_as_list))"
   ]
  },
  {
   "cell_type": "code",
   "execution_count": 10,
   "metadata": {},
   "outputs": [],
   "source": [
    "class MyLogger:\n",
    "    def __init__(self):\n",
    "        self.iteration = 0\n",
    "        self.individuals_by_generation = []\n",
    "\n",
    "    def log(self, pop):\n",
    "        self.iteration += 1\n",
    "        for i in pop.evaluate():\n",
    "            individual_motor = i.chromosome.motor\n",
    "            individual_power_source = i.chromosome.power_source\n",
    "            individual_fitness = i.fitness\n",
    "            self.individuals_by_generation.append({\"generation\": self.iteration, \"individual_motor\": individual_motor,\n",
    "                                                  \"individual_power_source\": individual_power_source, \"individual_fitness\": individual_fitness})"
   ]
  },
  {
   "cell_type": "code",
   "execution_count": 11,
   "metadata": {},
   "outputs": [],
   "source": [
    "logger = MyLogger()\n",
    "pop = Population(\n",
    "    chromosomes=[random_robot() for _ in range(10)],\n",
    "    eval_function=fitness,\n",
    "    maximize=True,\n",
    ")\n",
    "evo1 = (\n",
    "    Evolution()\n",
    "    .survive(n=2)\n",
    "    .breed(parent_picker=pick_random_parents, combiner=make_child)\n",
    "    .mutate(mutate_function=mutate, sigma=1)\n",
    "    .evaluate()\n",
    "    .callback(logger.log)\n",
    "    .callback(logger.log)\n",
    ")"
   ]
  },
  {
   "cell_type": "code",
   "execution_count": 12,
   "metadata": {},
   "outputs": [
    {
     "data": {
      "text/plain": [
       "<Population with size 10 at 2576271517176>"
      ]
     },
     "execution_count": 12,
     "metadata": {},
     "output_type": "execute_result"
    }
   ],
   "source": [
    "pop.evolve(evo1, n=20)"
   ]
  },
  {
   "cell_type": "code",
   "execution_count": 13,
   "metadata": {},
   "outputs": [],
   "source": [
    "df = pd.DataFrame(logger.individuals_by_generation)"
   ]
  },
  {
   "cell_type": "code",
   "execution_count": 20,
   "metadata": {},
   "outputs": [
    {
     "data": {
      "image/png": "[encoded data removed]",
      "text/plain": [
       "<Figure size 432x288 with 1 Axes>"
      ]
     },
     "metadata": {},
     "output_type": "display_data"
    }
   ],
   "source": [
    "sns.lineplot(x=\"generation\", y=\"individual_fitness\", data=df.groupby(\"generation\").agg(max).reset_index())\n",
    "sns.despine()"
   ]
  },
  {
   "cell_type": "code",
   "execution_count": null,
   "metadata": {},
   "outputs": [],
   "source": []
  }
 ],
 "metadata": {
  "jupytext": {
   "formats": "ipynb,py:percent"
  },
  "kernelspec": {
   "display_name": "Python [conda env:genetic_algorithm] *",
   "language": "python",
   "name": "conda-env-genetic_algorithm-py"
  },
  "language_info": {
   "codemirror_mode": {
    "name": "ipython",
    "version": 3
   },
   "file_extension": ".py",
   "mimetype": "text/x-python",
   "name": "python",
   "nbconvert_exporter": "python",
   "pygments_lexer": "ipython3",
   "version": "3.7.3"
  }
 },
 "nbformat": 4,
 "nbformat_minor": 4
}
