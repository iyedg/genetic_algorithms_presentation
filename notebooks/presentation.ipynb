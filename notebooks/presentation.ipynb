{
 "cells": [
  {
   "cell_type": "markdown",
   "metadata": {},
   "source": [
    "# Genetic algorithms"
   ]
  },
  {
   "cell_type": "markdown",
   "metadata": {
    "slideshow": {
     "slide_type": "slide"
    }
   },
   "source": [
    "## Introduction"
   ]
  },
  {
   "cell_type": "markdown",
   "metadata": {},
   "source": [
    "### Intutition behind evolutionary algorithms"
   ]
  },
  {
   "cell_type": "markdown",
   "metadata": {},
   "source": [
    "One of the driving forces behind evolution is *Natural selection*. According to [***Evolutionary Optimization Algorithms***](#EOA), natural section has the following basic features that are simulated by genetic algorithms:\n",
    "\n",
    "> * A biological system includes a population of individuals, many of which have the ability to reproduce\n",
    "> * The individuals have a  finite lifespan\n",
    "> * There is variation in the population\n",
    "> * The ability to survive is positively correlated with the ability to reproduce"
   ]
  },
  {
   "cell_type": "markdown",
   "metadata": {},
   "source": [
    "These building blocks can be used as the tools we can use to create genetic algorithms, which can be summarized as follows:\n",
    "\n",
    "<span style=\"background: red; color: white;\">natural_selection.dio</span>\n",
    "\n",
    "Ideally we would have a stopping criterion, such as the number of generations, time of running, stagnation of improvement, etc ...\n",
    "\n",
    "![img](https://s3-ap-south-1.amazonaws.com/av-blog-media/wp-content/uploads/2017/07/22154007/steps.png)"
   ]
  },
  {
   "cell_type": "markdown",
   "metadata": {},
   "source": [
    "By following that process, we end up with generations that are more fit as the \"*evolution*\" takes place."
   ]
  },
  {
   "cell_type": "markdown",
   "metadata": {},
   "source": [
    "### Definition of genetic algorithms and terminology"
   ]
  },
  {
   "cell_type": "markdown",
   "metadata": {},
   "source": [
    "In the book [An Introduction to Genetic Algorithms](#IGA), the author argues that although there are no rigorous definition of Genetic Algorithms that is differentiates them from the rest of evolutionary computation methods, they have common elements:\n",
    "\n",
    "* Population of **chromosomes**\n",
    "* Selection according to **fitness**\n",
    "* **Crossover** to produce new offspring\n",
    "* Random **mutations** of new offspring"
   ]
  },
  {
   "cell_type": "markdown",
   "metadata": {},
   "source": [
    "#### Biological terminology"
   ]
  },
  {
   "cell_type": "markdown",
   "metadata": {},
   "source": [
    "![alt text](https://s3-ap-south-1.amazonaws.com/av-blog-media/wp-content/uploads/2017/07/22153917/dna.png)\n",
    "![alt](https://s3-ap-south-1.amazonaws.com/av-blog-media/wp-content/uploads/2017/07/22153928/gene.png)\n",
    "\n",
    "[Source](#vidh)"
   ]
  },
  {
   "cell_type": "markdown",
   "metadata": {},
   "source": [
    "All living organisms are composed of cells, which, in turn, contain DNA. \n",
    "\n",
    "Strings of DNA are the building blocks of chromosomes. Each chromosome contains genes (represented as 0 and 1 in the image) that encode *traits* such as Eye Color. \n",
    "\n",
    "The possible values for each gene (0 and 1 in this case) encode the possible manifestation *phenotype* and are called *alleles*. The exact location at which a gene is located is called *Locus* [\\[IGA\\]](#IGA)"
   ]
  },
  {
   "cell_type": "markdown",
   "metadata": {},
   "source": [
    "## Genetic algorithms operators"
   ]
  },
  {
   "cell_type": "markdown",
   "metadata": {},
   "source": [
    "#### Selection\n",
    "\n",
    "The selection operator favors fitter chromosomes for reproduction, therefore the fitter the chromosome the more likely it is to reproduce"
   ]
  },
  {
   "cell_type": "markdown",
   "metadata": {},
   "source": [
    "#### Crossover\n",
    "\n",
    "In the case of single-point crossover, the operator exchanges a subsequence before and after a randomly selected locus between two chromosomes. The result is two offspring.\n",
    "\n",
    "![hey](https://s3-ap-south-1.amazonaws.com/av-blog-media/wp-content/uploads/2017/07/22173337/one-point.png)\n",
    "[Source](#vidh)"
   ]
  },
  {
   "cell_type": "markdown",
   "metadata": {},
   "source": [
    "#### Mutation\n",
    "\n",
    "The mutation operator *flips* randomly one or some of the bits in the chromosome. Mutations usually occur with very small probability, in the order of magnitude of 0.0001.\n",
    "\n",
    "[\\[IGA\\]](#IGA)"
   ]
  },
  {
   "cell_type": "markdown",
   "metadata": {},
   "source": [
    "### Genetic algorithms' parameters\n",
    "\n",
    "In the book [Evolutionary optimization algorithms](#EOA), the author introduces some parameters that a genetic algorithms designer should tune and tweak to obtain satisfactory results:\n",
    "\n",
    "* **Encoding schemes**: "
   ]
  },
  {
   "cell_type": "markdown",
   "metadata": {},
   "source": [
    "# References\n",
    "<span id=\"IGA\">Melanie, M. (n.d.). An Introduction to Genetic Algorithms.</span>\n",
    "\n",
    "<span id=\"EOA\">Simon, D. (2013). Evolutionary optimization algorithms: Biologically-Inspired and population-based approaches to computer intelligence. Hoboken, New Jersey: John Wiley & Sons Inc.</span>\n",
    "\n",
    "<span id=\"vidh\">Genetic Algorithm Introduction & their application in data science. (n.d.). Retrieved July 14, 2019, from https://www.analyticsvidhya.com/blog/2017/07/introduction-to-genetic-algorithm/</span>"
   ]
  },
  {
   "cell_type": "code",
   "execution_count": null,
   "metadata": {},
   "outputs": [],
   "source": []
  }
 ],
 "metadata": {
  "kernelspec": {
   "display_name": "Python [conda env:genetic_algorithm] *",
   "language": "python",
   "name": "conda-env-genetic_algorithm-py"
  },
  "language_info": {
   "codemirror_mode": {
    "name": "ipython",
    "version": 3
   },
   "file_extension": ".py",
   "mimetype": "text/x-python",
   "name": "python",
   "nbconvert_exporter": "python",
   "pygments_lexer": "ipython3",
   "version": "3.7.3"
  }
 },
 "nbformat": 4,
 "nbformat_minor": 4
}
